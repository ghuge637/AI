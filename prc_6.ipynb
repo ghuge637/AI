{
 "cells": [
  {
   "cell_type": "code",
   "execution_count": 4,
   "id": "b0105112",
   "metadata": {},
   "outputs": [
    {
     "name": "stderr",
     "output_type": "stream",
     "text": [
      "ERROR: Could not find a version that satisfies the requirement expert (from versions: none)\n",
      "ERROR: No matching distribution found for expert\n"
     ]
    },
    {
     "name": "stdout",
     "output_type": "stream",
     "text": [
      "Do you have a fever? (yes/no): yes\n",
      "Do you have a cough? (yes/no): no\n",
      "Do you have a sore throat? (yes/no): yes\n",
      "Do you have a runny nose? (yes/no): no\n",
      "Do you have a headache? (yes/no): yes\n",
      "Are you experiencing fatigue? (yes/no): yes\n",
      "Do you feel nauseous? (yes/no): yes\n",
      "Do you have diarrhea? (yes/no): yes\n",
      "✅ Diagnosis: You might have a stomach infection.\n",
      "⚠️ Diagnosis: Unable to determine. Please consult a doctor.\n"
     ]
    }
   ],
   "source": [
    "\n",
    "\n",
    "!pip install expert\n",
    "from experta import *\n",
    "\n",
    "# Define the Knowledge Engine\n",
    "class MedicalDiagnosis(KnowledgeEngine):\n",
    "    \n",
    "    @DefFacts()\n",
    "    def _initial_action(self):\n",
    "        yield Fact(action='diagnose')\n",
    "    \n",
    "    @Rule(Fact(action='diagnose'),\n",
    "          Fact(fever=True),\n",
    "          Fact(cough=True),\n",
    "          Fact(fatigue=True))\n",
    "    def flu(self):\n",
    "        print(\"✅ Diagnosis: You might have the flu.\")\n",
    "    \n",
    "    @Rule(Fact(action='diagnose'),\n",
    "          Fact(fever=True),\n",
    "          Fact(sore_throat=True),\n",
    "          Fact(runny_nose=True))\n",
    "    def cold(self):\n",
    "        print(\"✅ Diagnosis: You might have a common cold.\")\n",
    "        \n",
    "    @Rule(Fact(action='diagnose'),\n",
    "          Fact(nausea=True),\n",
    "          Fact(diarrhea=True))\n",
    "    def stomach_infection(self):\n",
    "        print(\"✅ Diagnosis: You might have a stomach infection.\")\n",
    "        \n",
    "    @Rule(Fact(action='diagnose'),\n",
    "          Fact(headache=True),\n",
    "          Fact(fever=False))\n",
    "    def migraine(self):\n",
    "        print(\"✅ Diagnosis: You might have a migraine.\")\n",
    "    \n",
    "    @Rule(Fact(action='diagnose'),\n",
    "          NOT(Fact(flu=True)),\n",
    "          NOT(Fact(cold=True)),\n",
    "          NOT(Fact(stomach_infection=True)),\n",
    "          NOT(Fact(migraine=True)))\n",
    "    def unknown(self):\n",
    "        print(\"⚠️ Diagnosis: Unable to determine. Please consult a doctor.\")\n",
    "\n",
    "# Get user input\n",
    "def get_symptom_input():\n",
    "    symptoms = {\n",
    "        'fever': input(\"Do you have a fever? (yes/no): \").lower() == 'yes',\n",
    "        'cough': input(\"Do you have a cough? (yes/no): \").lower() == 'yes',\n",
    "        'sore_throat': input(\"Do you have a sore throat? (yes/no): \").lower() == 'yes',\n",
    "        'runny_nose': input(\"Do you have a runny nose? (yes/no): \").lower() == 'yes',\n",
    "        'headache': input(\"Do you have a headache? (yes/no): \").lower() == 'yes',\n",
    "        'fatigue': input(\"Are you experiencing fatigue? (yes/no): \").lower() == 'yes',\n",
    "        'nausea': input(\"Do you feel nauseous? (yes/no): \").lower() == 'yes',\n",
    "        'diarrhea': input(\"Do you have diarrhea? (yes/no): \").lower() == 'yes'\n",
    "    }\n",
    "    return symptoms\n",
    "\n",
    "# Run the system\n",
    "def run_expert_system():\n",
    "    symptoms = get_symptom_input()\n",
    "    engine = MedicalDiagnosis()\n",
    "    engine.reset()\n",
    "    for symptom, value in symptoms.items():\n",
    "        engine.declare(Fact(**{symptom: value}))\n",
    "    engine.run()\n",
    "\n",
    "# Start the diagnosis\n",
    "run_expert_system()\n"
   ]
  },
  {
   "cell_type": "code",
   "execution_count": null,
   "id": "25b26b36",
   "metadata": {},
   "outputs": [],
   "source": []
  },
  {
   "cell_type": "code",
   "execution_count": null,
   "id": "55799772",
   "metadata": {},
   "outputs": [],
   "source": []
  },
  {
   "cell_type": "code",
   "execution_count": null,
   "id": "77cbebe1",
   "metadata": {},
   "outputs": [],
   "source": []
  }
 ],
 "metadata": {
  "kernelspec": {
   "display_name": "Python 3 (ipykernel)",
   "language": "python",
   "name": "python3"
  },
  "language_info": {
   "codemirror_mode": {
    "name": "ipython",
    "version": 3
   },
   "file_extension": ".py",
   "mimetype": "text/x-python",
   "name": "python",
   "nbconvert_exporter": "python",
   "pygments_lexer": "ipython3",
   "version": "3.8.0"
  }
 },
 "nbformat": 4,
 "nbformat_minor": 5
}
